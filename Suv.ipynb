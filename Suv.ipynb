{
 "cells": [
  {
   "cell_type": "code",
   "execution_count": 1,
   "id": "88ddd317-8e18-4d81-a8f7-9a8924400a4b",
   "metadata": {},
   "outputs": [],
   "source": [
    "import numpy as np \n",
    "import matplotlib as mat\n",
    "import pandas as pd\n"
   ]
  },
  {
   "cell_type": "code",
   "execution_count": 2,
   "id": "295519fd-0585-46c3-b27c-4dcdde1e5e01",
   "metadata": {},
   "outputs": [],
   "source": [
    "dataset = pd.read_csv(\"suv_data.csv\")"
   ]
  },
  {
   "cell_type": "code",
   "execution_count": 3,
   "id": "c9b0106b-8180-4d77-875a-651d00b17f20",
   "metadata": {},
   "outputs": [
    {
     "data": {
      "text/html": [
       "<div>\n",
       "<style scoped>\n",
       "    .dataframe tbody tr th:only-of-type {\n",
       "        vertical-align: middle;\n",
       "    }\n",
       "\n",
       "    .dataframe tbody tr th {\n",
       "        vertical-align: top;\n",
       "    }\n",
       "\n",
       "    .dataframe thead th {\n",
       "        text-align: right;\n",
       "    }\n",
       "</style>\n",
       "<table border=\"1\" class=\"dataframe\">\n",
       "  <thead>\n",
       "    <tr style=\"text-align: right;\">\n",
       "      <th></th>\n",
       "      <th>User ID</th>\n",
       "      <th>Gender</th>\n",
       "      <th>Age</th>\n",
       "      <th>EstimatedSalary</th>\n",
       "      <th>Purchased</th>\n",
       "    </tr>\n",
       "  </thead>\n",
       "  <tbody>\n",
       "    <tr>\n",
       "      <th>0</th>\n",
       "      <td>15624510</td>\n",
       "      <td>Male</td>\n",
       "      <td>19</td>\n",
       "      <td>19000</td>\n",
       "      <td>0</td>\n",
       "    </tr>\n",
       "    <tr>\n",
       "      <th>1</th>\n",
       "      <td>15810944</td>\n",
       "      <td>Male</td>\n",
       "      <td>35</td>\n",
       "      <td>20000</td>\n",
       "      <td>0</td>\n",
       "    </tr>\n",
       "    <tr>\n",
       "      <th>2</th>\n",
       "      <td>15668575</td>\n",
       "      <td>Female</td>\n",
       "      <td>26</td>\n",
       "      <td>43000</td>\n",
       "      <td>0</td>\n",
       "    </tr>\n",
       "    <tr>\n",
       "      <th>3</th>\n",
       "      <td>15603246</td>\n",
       "      <td>Female</td>\n",
       "      <td>27</td>\n",
       "      <td>57000</td>\n",
       "      <td>0</td>\n",
       "    </tr>\n",
       "    <tr>\n",
       "      <th>4</th>\n",
       "      <td>15804002</td>\n",
       "      <td>Male</td>\n",
       "      <td>19</td>\n",
       "      <td>76000</td>\n",
       "      <td>0</td>\n",
       "    </tr>\n",
       "    <tr>\n",
       "      <th>...</th>\n",
       "      <td>...</td>\n",
       "      <td>...</td>\n",
       "      <td>...</td>\n",
       "      <td>...</td>\n",
       "      <td>...</td>\n",
       "    </tr>\n",
       "    <tr>\n",
       "      <th>395</th>\n",
       "      <td>15691863</td>\n",
       "      <td>Female</td>\n",
       "      <td>46</td>\n",
       "      <td>41000</td>\n",
       "      <td>1</td>\n",
       "    </tr>\n",
       "    <tr>\n",
       "      <th>396</th>\n",
       "      <td>15706071</td>\n",
       "      <td>Male</td>\n",
       "      <td>51</td>\n",
       "      <td>23000</td>\n",
       "      <td>1</td>\n",
       "    </tr>\n",
       "    <tr>\n",
       "      <th>397</th>\n",
       "      <td>15654296</td>\n",
       "      <td>Female</td>\n",
       "      <td>50</td>\n",
       "      <td>20000</td>\n",
       "      <td>1</td>\n",
       "    </tr>\n",
       "    <tr>\n",
       "      <th>398</th>\n",
       "      <td>15755018</td>\n",
       "      <td>Male</td>\n",
       "      <td>36</td>\n",
       "      <td>33000</td>\n",
       "      <td>0</td>\n",
       "    </tr>\n",
       "    <tr>\n",
       "      <th>399</th>\n",
       "      <td>15594041</td>\n",
       "      <td>Female</td>\n",
       "      <td>49</td>\n",
       "      <td>36000</td>\n",
       "      <td>1</td>\n",
       "    </tr>\n",
       "  </tbody>\n",
       "</table>\n",
       "<p>400 rows × 5 columns</p>\n",
       "</div>"
      ],
      "text/plain": [
       "      User ID  Gender  Age  EstimatedSalary  Purchased\n",
       "0    15624510    Male   19            19000          0\n",
       "1    15810944    Male   35            20000          0\n",
       "2    15668575  Female   26            43000          0\n",
       "3    15603246  Female   27            57000          0\n",
       "4    15804002    Male   19            76000          0\n",
       "..        ...     ...  ...              ...        ...\n",
       "395  15691863  Female   46            41000          1\n",
       "396  15706071    Male   51            23000          1\n",
       "397  15654296  Female   50            20000          1\n",
       "398  15755018    Male   36            33000          0\n",
       "399  15594041  Female   49            36000          1\n",
       "\n",
       "[400 rows x 5 columns]"
      ]
     },
     "execution_count": 3,
     "metadata": {},
     "output_type": "execute_result"
    }
   ],
   "source": [
    "dataset"
   ]
  },
  {
   "cell_type": "code",
   "execution_count": 4,
   "id": "8a9dbcf4-191c-405a-850e-0846791bf181",
   "metadata": {},
   "outputs": [],
   "source": [
    "import seaborn as sns"
   ]
  },
  {
   "cell_type": "code",
   "execution_count": 5,
   "id": "2f7513a8-6004-46c3-bb49-ae326441e991",
   "metadata": {},
   "outputs": [
    {
     "data": {
      "text/plain": [
       "<Axes: xlabel='Purchased', ylabel='count'>"
      ]
     },
     "execution_count": 5,
     "metadata": {},
     "output_type": "execute_result"
    },
    {
     "data": {
      "image/png": "[encoded data removed]",
      "text/plain": [
       "<Figure size 640x480 with 1 Axes>"
      ]
     },
     "metadata": {},
     "output_type": "display_data"
    }
   ],
   "source": [
    "sns.countplot(x='Purchased',data=dataset,hue='Gender')"
   ]
  },
  {
   "cell_type": "code",
   "execution_count": 6,
   "id": "42a33819-10ae-40f7-8f64-76d2e1009e31",
   "metadata": {},
   "outputs": [
    {
     "data": {
      "text/plain": [
       "<Axes: xlabel='Age', ylabel='Purchased'>"
      ]
     },
     "execution_count": 6,
     "metadata": {},
     "output_type": "execute_result"
    },
    {
     "data": {
      "image/png": "[encoded data removed]",
      "text/plain": [
       "<Figure size 640x480 with 1 Axes>"
      ]
     },
     "metadata": {},
     "output_type": "display_data"
    }
   ],
   "source": [
    "sns.boxplot(x='Age',y='Purchased',data=dataset)"
   ]
  },
  {
   "cell_type": "code",
   "execution_count": 7,
   "id": "652069fb-a150-4156-8c72-18e284b02a1a",
   "metadata": {},
   "outputs": [
    {
     "name": "stdout",
     "output_type": "stream",
     "text": [
      "<class 'pandas.core.frame.DataFrame'>\n",
      "RangeIndex: 400 entries, 0 to 399\n",
      "Data columns (total 5 columns):\n",
      " #   Column           Non-Null Count  Dtype \n",
      "---  ------           --------------  ----- \n",
      " 0   User ID          400 non-null    int64 \n",
      " 1   Gender           400 non-null    object\n",
      " 2   Age              400 non-null    int64 \n",
      " 3   EstimatedSalary  400 non-null    int64 \n",
      " 4   Purchased        400 non-null    int64 \n",
      "dtypes: int64(4), object(1)\n",
      "memory usage: 15.8+ KB\n"
     ]
    }
   ],
   "source": [
    "dataset.info()"
   ]
  },
  {
   "cell_type": "code",
   "execution_count": 8,
   "id": "9a38ac3e-f841-4863-a5ad-19fc847df9e3",
   "metadata": {},
   "outputs": [
    {
     "data": {
      "text/html": [
       "<div>\n",
       "<style scoped>\n",
       "    .dataframe tbody tr th:only-of-type {\n",
       "        vertical-align: middle;\n",
       "    }\n",
       "\n",
       "    .dataframe tbody tr th {\n",
       "        vertical-align: top;\n",
       "    }\n",
       "\n",
       "    .dataframe thead th {\n",
       "        text-align: right;\n",
       "    }\n",
       "</style>\n",
       "<table border=\"1\" class=\"dataframe\">\n",
       "  <thead>\n",
       "    <tr style=\"text-align: right;\">\n",
       "      <th></th>\n",
       "      <th>User ID</th>\n",
       "      <th>Gender</th>\n",
       "      <th>Age</th>\n",
       "      <th>EstimatedSalary</th>\n",
       "      <th>Purchased</th>\n",
       "    </tr>\n",
       "  </thead>\n",
       "  <tbody>\n",
       "    <tr>\n",
       "      <th>0</th>\n",
       "      <td>15624510</td>\n",
       "      <td>Male</td>\n",
       "      <td>19</td>\n",
       "      <td>19000</td>\n",
       "      <td>0</td>\n",
       "    </tr>\n",
       "    <tr>\n",
       "      <th>1</th>\n",
       "      <td>15810944</td>\n",
       "      <td>Male</td>\n",
       "      <td>35</td>\n",
       "      <td>20000</td>\n",
       "      <td>0</td>\n",
       "    </tr>\n",
       "    <tr>\n",
       "      <th>2</th>\n",
       "      <td>15668575</td>\n",
       "      <td>Female</td>\n",
       "      <td>26</td>\n",
       "      <td>43000</td>\n",
       "      <td>0</td>\n",
       "    </tr>\n",
       "    <tr>\n",
       "      <th>3</th>\n",
       "      <td>15603246</td>\n",
       "      <td>Female</td>\n",
       "      <td>27</td>\n",
       "      <td>57000</td>\n",
       "      <td>0</td>\n",
       "    </tr>\n",
       "    <tr>\n",
       "      <th>4</th>\n",
       "      <td>15804002</td>\n",
       "      <td>Male</td>\n",
       "      <td>19</td>\n",
       "      <td>76000</td>\n",
       "      <td>0</td>\n",
       "    </tr>\n",
       "  </tbody>\n",
       "</table>\n",
       "</div>"
      ],
      "text/plain": [
       "    User ID  Gender  Age  EstimatedSalary  Purchased\n",
       "0  15624510    Male   19            19000          0\n",
       "1  15810944    Male   35            20000          0\n",
       "2  15668575  Female   26            43000          0\n",
       "3  15603246  Female   27            57000          0\n",
       "4  15804002    Male   19            76000          0"
      ]
     },
     "execution_count": 8,
     "metadata": {},
     "output_type": "execute_result"
    }
   ],
   "source": [
    "dataset.head()"
   ]
  },
  {
   "cell_type": "code",
   "execution_count": 9,
   "id": "213a926a-d3b1-4a65-ae70-6c2a12d280fd",
   "metadata": {},
   "outputs": [],
   "source": [
    "gender = pd.get_dummies(dataset['Gender'],drop_first=True)"
   ]
  },
  {
   "cell_type": "code",
   "execution_count": 10,
   "id": "4cca627e-36b2-4973-ad5e-c44d76af4078",
   "metadata": {},
   "outputs": [
    {
     "data": {
      "text/html": [
       "<div>\n",
       "<style scoped>\n",
       "    .dataframe tbody tr th:only-of-type {\n",
       "        vertical-align: middle;\n",
       "    }\n",
       "\n",
       "    .dataframe tbody tr th {\n",
       "        vertical-align: top;\n",
       "    }\n",
       "\n",
       "    .dataframe thead th {\n",
       "        text-align: right;\n",
       "    }\n",
       "</style>\n",
       "<table border=\"1\" class=\"dataframe\">\n",
       "  <thead>\n",
       "    <tr style=\"text-align: right;\">\n",
       "      <th></th>\n",
       "      <th>Male</th>\n",
       "    </tr>\n",
       "  </thead>\n",
       "  <tbody>\n",
       "    <tr>\n",
       "      <th>0</th>\n",
       "      <td>True</td>\n",
       "    </tr>\n",
       "    <tr>\n",
       "      <th>1</th>\n",
       "      <td>True</td>\n",
       "    </tr>\n",
       "    <tr>\n",
       "      <th>2</th>\n",
       "      <td>False</td>\n",
       "    </tr>\n",
       "    <tr>\n",
       "      <th>3</th>\n",
       "      <td>False</td>\n",
       "    </tr>\n",
       "    <tr>\n",
       "      <th>4</th>\n",
       "      <td>True</td>\n",
       "    </tr>\n",
       "    <tr>\n",
       "      <th>...</th>\n",
       "      <td>...</td>\n",
       "    </tr>\n",
       "    <tr>\n",
       "      <th>395</th>\n",
       "      <td>False</td>\n",
       "    </tr>\n",
       "    <tr>\n",
       "      <th>396</th>\n",
       "      <td>True</td>\n",
       "    </tr>\n",
       "    <tr>\n",
       "      <th>397</th>\n",
       "      <td>False</td>\n",
       "    </tr>\n",
       "    <tr>\n",
       "      <th>398</th>\n",
       "      <td>True</td>\n",
       "    </tr>\n",
       "    <tr>\n",
       "      <th>399</th>\n",
       "      <td>False</td>\n",
       "    </tr>\n",
       "  </tbody>\n",
       "</table>\n",
       "<p>400 rows × 1 columns</p>\n",
       "</div>"
      ],
      "text/plain": [
       "      Male\n",
       "0     True\n",
       "1     True\n",
       "2    False\n",
       "3    False\n",
       "4     True\n",
       "..     ...\n",
       "395  False\n",
       "396   True\n",
       "397  False\n",
       "398   True\n",
       "399  False\n",
       "\n",
       "[400 rows x 1 columns]"
      ]
     },
     "execution_count": 10,
     "metadata": {},
     "output_type": "execute_result"
    }
   ],
   "source": [
    "gender"
   ]
  },
  {
   "cell_type": "code",
   "execution_count": 11,
   "id": "dff18c93-015d-4aa0-b0cf-a93f9bdcf209",
   "metadata": {},
   "outputs": [],
   "source": [
    "gender = gender.astype(int)"
   ]
  },
  {
   "cell_type": "code",
   "execution_count": 12,
   "id": "97311047-b235-4073-9f23-83d25ef45ccf",
   "metadata": {},
   "outputs": [
    {
     "data": {
      "text/html": [
       "<div>\n",
       "<style scoped>\n",
       "    .dataframe tbody tr th:only-of-type {\n",
       "        vertical-align: middle;\n",
       "    }\n",
       "\n",
       "    .dataframe tbody tr th {\n",
       "        vertical-align: top;\n",
       "    }\n",
       "\n",
       "    .dataframe thead th {\n",
       "        text-align: right;\n",
       "    }\n",
       "</style>\n",
       "<table border=\"1\" class=\"dataframe\">\n",
       "  <thead>\n",
       "    <tr style=\"text-align: right;\">\n",
       "      <th></th>\n",
       "      <th>Male</th>\n",
       "    </tr>\n",
       "  </thead>\n",
       "  <tbody>\n",
       "    <tr>\n",
       "      <th>0</th>\n",
       "      <td>1</td>\n",
       "    </tr>\n",
       "    <tr>\n",
       "      <th>1</th>\n",
       "      <td>1</td>\n",
       "    </tr>\n",
       "    <tr>\n",
       "      <th>2</th>\n",
       "      <td>0</td>\n",
       "    </tr>\n",
       "    <tr>\n",
       "      <th>3</th>\n",
       "      <td>0</td>\n",
       "    </tr>\n",
       "    <tr>\n",
       "      <th>4</th>\n",
       "      <td>1</td>\n",
       "    </tr>\n",
       "    <tr>\n",
       "      <th>...</th>\n",
       "      <td>...</td>\n",
       "    </tr>\n",
       "    <tr>\n",
       "      <th>395</th>\n",
       "      <td>0</td>\n",
       "    </tr>\n",
       "    <tr>\n",
       "      <th>396</th>\n",
       "      <td>1</td>\n",
       "    </tr>\n",
       "    <tr>\n",
       "      <th>397</th>\n",
       "      <td>0</td>\n",
       "    </tr>\n",
       "    <tr>\n",
       "      <th>398</th>\n",
       "      <td>1</td>\n",
       "    </tr>\n",
       "    <tr>\n",
       "      <th>399</th>\n",
       "      <td>0</td>\n",
       "    </tr>\n",
       "  </tbody>\n",
       "</table>\n",
       "<p>400 rows × 1 columns</p>\n",
       "</div>"
      ],
      "text/plain": [
       "     Male\n",
       "0       1\n",
       "1       1\n",
       "2       0\n",
       "3       0\n",
       "4       1\n",
       "..    ...\n",
       "395     0\n",
       "396     1\n",
       "397     0\n",
       "398     1\n",
       "399     0\n",
       "\n",
       "[400 rows x 1 columns]"
      ]
     },
     "execution_count": 12,
     "metadata": {},
     "output_type": "execute_result"
    }
   ],
   "source": [
    "gender"
   ]
  },
  {
   "cell_type": "code",
   "execution_count": 13,
   "id": "b935f283-5ef2-4144-a95f-4314847b6882",
   "metadata": {},
   "outputs": [],
   "source": [
    "dataset=pd.concat([dataset,gender],axis =1)"
   ]
  },
  {
   "cell_type": "code",
   "execution_count": 14,
   "id": "c879a680-a18d-4bee-87ed-e3ea7915416d",
   "metadata": {},
   "outputs": [
    {
     "data": {
      "text/html": [
       "<div>\n",
       "<style scoped>\n",
       "    .dataframe tbody tr th:only-of-type {\n",
       "        vertical-align: middle;\n",
       "    }\n",
       "\n",
       "    .dataframe tbody tr th {\n",
       "        vertical-align: top;\n",
       "    }\n",
       "\n",
       "    .dataframe thead th {\n",
       "        text-align: right;\n",
       "    }\n",
       "</style>\n",
       "<table border=\"1\" class=\"dataframe\">\n",
       "  <thead>\n",
       "    <tr style=\"text-align: right;\">\n",
       "      <th></th>\n",
       "      <th>User ID</th>\n",
       "      <th>Gender</th>\n",
       "      <th>Age</th>\n",
       "      <th>EstimatedSalary</th>\n",
       "      <th>Purchased</th>\n",
       "      <th>Male</th>\n",
       "    </tr>\n",
       "  </thead>\n",
       "  <tbody>\n",
       "    <tr>\n",
       "      <th>0</th>\n",
       "      <td>15624510</td>\n",
       "      <td>Male</td>\n",
       "      <td>19</td>\n",
       "      <td>19000</td>\n",
       "      <td>0</td>\n",
       "      <td>1</td>\n",
       "    </tr>\n",
       "    <tr>\n",
       "      <th>1</th>\n",
       "      <td>15810944</td>\n",
       "      <td>Male</td>\n",
       "      <td>35</td>\n",
       "      <td>20000</td>\n",
       "      <td>0</td>\n",
       "      <td>1</td>\n",
       "    </tr>\n",
       "    <tr>\n",
       "      <th>2</th>\n",
       "      <td>15668575</td>\n",
       "      <td>Female</td>\n",
       "      <td>26</td>\n",
       "      <td>43000</td>\n",
       "      <td>0</td>\n",
       "      <td>0</td>\n",
       "    </tr>\n",
       "    <tr>\n",
       "      <th>3</th>\n",
       "      <td>15603246</td>\n",
       "      <td>Female</td>\n",
       "      <td>27</td>\n",
       "      <td>57000</td>\n",
       "      <td>0</td>\n",
       "      <td>0</td>\n",
       "    </tr>\n",
       "    <tr>\n",
       "      <th>4</th>\n",
       "      <td>15804002</td>\n",
       "      <td>Male</td>\n",
       "      <td>19</td>\n",
       "      <td>76000</td>\n",
       "      <td>0</td>\n",
       "      <td>1</td>\n",
       "    </tr>\n",
       "    <tr>\n",
       "      <th>...</th>\n",
       "      <td>...</td>\n",
       "      <td>...</td>\n",
       "      <td>...</td>\n",
       "      <td>...</td>\n",
       "      <td>...</td>\n",
       "      <td>...</td>\n",
       "    </tr>\n",
       "    <tr>\n",
       "      <th>395</th>\n",
       "      <td>15691863</td>\n",
       "      <td>Female</td>\n",
       "      <td>46</td>\n",
       "      <td>41000</td>\n",
       "      <td>1</td>\n",
       "      <td>0</td>\n",
       "    </tr>\n",
       "    <tr>\n",
       "      <th>396</th>\n",
       "      <td>15706071</td>\n",
       "      <td>Male</td>\n",
       "      <td>51</td>\n",
       "      <td>23000</td>\n",
       "      <td>1</td>\n",
       "      <td>1</td>\n",
       "    </tr>\n",
       "    <tr>\n",
       "      <th>397</th>\n",
       "      <td>15654296</td>\n",
       "      <td>Female</td>\n",
       "      <td>50</td>\n",
       "      <td>20000</td>\n",
       "      <td>1</td>\n",
       "      <td>0</td>\n",
       "    </tr>\n",
       "    <tr>\n",
       "      <th>398</th>\n",
       "      <td>15755018</td>\n",
       "      <td>Male</td>\n",
       "      <td>36</td>\n",
       "      <td>33000</td>\n",
       "      <td>0</td>\n",
       "      <td>1</td>\n",
       "    </tr>\n",
       "    <tr>\n",
       "      <th>399</th>\n",
       "      <td>15594041</td>\n",
       "      <td>Female</td>\n",
       "      <td>49</td>\n",
       "      <td>36000</td>\n",
       "      <td>1</td>\n",
       "      <td>0</td>\n",
       "    </tr>\n",
       "  </tbody>\n",
       "</table>\n",
       "<p>400 rows × 6 columns</p>\n",
       "</div>"
      ],
      "text/plain": [
       "      User ID  Gender  Age  EstimatedSalary  Purchased  Male\n",
       "0    15624510    Male   19            19000          0     1\n",
       "1    15810944    Male   35            20000          0     1\n",
       "2    15668575  Female   26            43000          0     0\n",
       "3    15603246  Female   27            57000          0     0\n",
       "4    15804002    Male   19            76000          0     1\n",
       "..        ...     ...  ...              ...        ...   ...\n",
       "395  15691863  Female   46            41000          1     0\n",
       "396  15706071    Male   51            23000          1     1\n",
       "397  15654296  Female   50            20000          1     0\n",
       "398  15755018    Male   36            33000          0     1\n",
       "399  15594041  Female   49            36000          1     0\n",
       "\n",
       "[400 rows x 6 columns]"
      ]
     },
     "execution_count": 14,
     "metadata": {},
     "output_type": "execute_result"
    }
   ],
   "source": [
    "dataset"
   ]
  },
  {
   "cell_type": "code",
   "execution_count": 15,
   "id": "9c6d78ad-bc63-4ccd-bde2-dbed7a5f74e9",
   "metadata": {},
   "outputs": [],
   "source": [
    "X = dataset.iloc[:,[2,3,5]]"
   ]
  },
  {
   "cell_type": "code",
   "execution_count": 16,
   "id": "9ef11290-4a3f-4f38-8eaa-18f00124ee6a",
   "metadata": {},
   "outputs": [
    {
     "data": {
      "text/html": [
       "<div>\n",
       "<style scoped>\n",
       "    .dataframe tbody tr th:only-of-type {\n",
       "        vertical-align: middle;\n",
       "    }\n",
       "\n",
       "    .dataframe tbody tr th {\n",
       "        vertical-align: top;\n",
       "    }\n",
       "\n",
       "    .dataframe thead th {\n",
       "        text-align: right;\n",
       "    }\n",
       "</style>\n",
       "<table border=\"1\" class=\"dataframe\">\n",
       "  <thead>\n",
       "    <tr style=\"text-align: right;\">\n",
       "      <th></th>\n",
       "      <th>Age</th>\n",
       "      <th>EstimatedSalary</th>\n",
       "      <th>Male</th>\n",
       "    </tr>\n",
       "  </thead>\n",
       "  <tbody>\n",
       "    <tr>\n",
       "      <th>0</th>\n",
       "      <td>19</td>\n",
       "      <td>19000</td>\n",
       "      <td>1</td>\n",
       "    </tr>\n",
       "    <tr>\n",
       "      <th>1</th>\n",
       "      <td>35</td>\n",
       "      <td>20000</td>\n",
       "      <td>1</td>\n",
       "    </tr>\n",
       "    <tr>\n",
       "      <th>2</th>\n",
       "      <td>26</td>\n",
       "      <td>43000</td>\n",
       "      <td>0</td>\n",
       "    </tr>\n",
       "    <tr>\n",
       "      <th>3</th>\n",
       "      <td>27</td>\n",
       "      <td>57000</td>\n",
       "      <td>0</td>\n",
       "    </tr>\n",
       "    <tr>\n",
       "      <th>4</th>\n",
       "      <td>19</td>\n",
       "      <td>76000</td>\n",
       "      <td>1</td>\n",
       "    </tr>\n",
       "    <tr>\n",
       "      <th>...</th>\n",
       "      <td>...</td>\n",
       "      <td>...</td>\n",
       "      <td>...</td>\n",
       "    </tr>\n",
       "    <tr>\n",
       "      <th>395</th>\n",
       "      <td>46</td>\n",
       "      <td>41000</td>\n",
       "      <td>0</td>\n",
       "    </tr>\n",
       "    <tr>\n",
       "      <th>396</th>\n",
       "      <td>51</td>\n",
       "      <td>23000</td>\n",
       "      <td>1</td>\n",
       "    </tr>\n",
       "    <tr>\n",
       "      <th>397</th>\n",
       "      <td>50</td>\n",
       "      <td>20000</td>\n",
       "      <td>0</td>\n",
       "    </tr>\n",
       "    <tr>\n",
       "      <th>398</th>\n",
       "      <td>36</td>\n",
       "      <td>33000</td>\n",
       "      <td>1</td>\n",
       "    </tr>\n",
       "    <tr>\n",
       "      <th>399</th>\n",
       "      <td>49</td>\n",
       "      <td>36000</td>\n",
       "      <td>0</td>\n",
       "    </tr>\n",
       "  </tbody>\n",
       "</table>\n",
       "<p>400 rows × 3 columns</p>\n",
       "</div>"
      ],
      "text/plain": [
       "     Age  EstimatedSalary  Male\n",
       "0     19            19000     1\n",
       "1     35            20000     1\n",
       "2     26            43000     0\n",
       "3     27            57000     0\n",
       "4     19            76000     1\n",
       "..   ...              ...   ...\n",
       "395   46            41000     0\n",
       "396   51            23000     1\n",
       "397   50            20000     0\n",
       "398   36            33000     1\n",
       "399   49            36000     0\n",
       "\n",
       "[400 rows x 3 columns]"
      ]
     },
     "execution_count": 16,
     "metadata": {},
     "output_type": "execute_result"
    }
   ],
   "source": [
    "X"
   ]
  },
  {
   "cell_type": "code",
   "execution_count": 17,
   "id": "25708ebe-3b73-4afa-91b0-1b25d6f805cc",
   "metadata": {},
   "outputs": [],
   "source": [
    "Y = dataset.iloc[:,4]"
   ]
  },
  {
   "cell_type": "code",
   "execution_count": 18,
   "id": "fbab8f31-1908-49fa-990f-a6067b9c36df",
   "metadata": {},
   "outputs": [
    {
     "data": {
      "text/plain": [
       "0      0\n",
       "1      0\n",
       "2      0\n",
       "3      0\n",
       "4      0\n",
       "      ..\n",
       "395    1\n",
       "396    1\n",
       "397    1\n",
       "398    0\n",
       "399    1\n",
       "Name: Purchased, Length: 400, dtype: int64"
      ]
     },
     "execution_count": 18,
     "metadata": {},
     "output_type": "execute_result"
    }
   ],
   "source": [
    "Y"
   ]
  },
  {
   "cell_type": "code",
   "execution_count": 19,
   "id": "11216611-78be-46ec-80e1-629c498c7a71",
   "metadata": {},
   "outputs": [],
   "source": [
    "from sklearn.linear_model import LogisticRegression"
   ]
  },
  {
   "cell_type": "code",
   "execution_count": 20,
   "id": "c5b7a2b7-b890-4f7b-8d94-4f90dd68b198",
   "metadata": {},
   "outputs": [],
   "source": [
    "from sklearn.model_selection import train_test_split"
   ]
  },
  {
   "cell_type": "code",
   "execution_count": 21,
   "id": "cfdeaefd-197b-4b5a-9322-4c176217dba5",
   "metadata": {},
   "outputs": [],
   "source": [
    "X_train, X_test, y_train, y_test = train_test_split(X, Y, test_size=0.2, random_state=6)"
   ]
  },
  {
   "cell_type": "code",
   "execution_count": 22,
   "id": "c0c53bca-d844-477d-8c95-3f66704b248c",
   "metadata": {},
   "outputs": [
    {
     "data": {
      "text/html": [
       "<div>\n",
       "<style scoped>\n",
       "    .dataframe tbody tr th:only-of-type {\n",
       "        vertical-align: middle;\n",
       "    }\n",
       "\n",
       "    .dataframe tbody tr th {\n",
       "        vertical-align: top;\n",
       "    }\n",
       "\n",
       "    .dataframe thead th {\n",
       "        text-align: right;\n",
       "    }\n",
       "</style>\n",
       "<table border=\"1\" class=\"dataframe\">\n",
       "  <thead>\n",
       "    <tr style=\"text-align: right;\">\n",
       "      <th></th>\n",
       "      <th>Age</th>\n",
       "      <th>EstimatedSalary</th>\n",
       "      <th>Male</th>\n",
       "    </tr>\n",
       "  </thead>\n",
       "  <tbody>\n",
       "    <tr>\n",
       "      <th>294</th>\n",
       "      <td>35</td>\n",
       "      <td>57000</td>\n",
       "      <td>0</td>\n",
       "    </tr>\n",
       "    <tr>\n",
       "      <th>272</th>\n",
       "      <td>60</td>\n",
       "      <td>42000</td>\n",
       "      <td>1</td>\n",
       "    </tr>\n",
       "    <tr>\n",
       "      <th>260</th>\n",
       "      <td>35</td>\n",
       "      <td>77000</td>\n",
       "      <td>0</td>\n",
       "    </tr>\n",
       "    <tr>\n",
       "      <th>249</th>\n",
       "      <td>35</td>\n",
       "      <td>97000</td>\n",
       "      <td>0</td>\n",
       "    </tr>\n",
       "    <tr>\n",
       "      <th>343</th>\n",
       "      <td>47</td>\n",
       "      <td>51000</td>\n",
       "      <td>0</td>\n",
       "    </tr>\n",
       "    <tr>\n",
       "      <th>...</th>\n",
       "      <td>...</td>\n",
       "      <td>...</td>\n",
       "      <td>...</td>\n",
       "    </tr>\n",
       "    <tr>\n",
       "      <th>365</th>\n",
       "      <td>59</td>\n",
       "      <td>29000</td>\n",
       "      <td>0</td>\n",
       "    </tr>\n",
       "    <tr>\n",
       "      <th>106</th>\n",
       "      <td>26</td>\n",
       "      <td>35000</td>\n",
       "      <td>0</td>\n",
       "    </tr>\n",
       "    <tr>\n",
       "      <th>227</th>\n",
       "      <td>56</td>\n",
       "      <td>133000</td>\n",
       "      <td>1</td>\n",
       "    </tr>\n",
       "    <tr>\n",
       "      <th>201</th>\n",
       "      <td>49</td>\n",
       "      <td>74000</td>\n",
       "      <td>1</td>\n",
       "    </tr>\n",
       "    <tr>\n",
       "      <th>394</th>\n",
       "      <td>39</td>\n",
       "      <td>59000</td>\n",
       "      <td>0</td>\n",
       "    </tr>\n",
       "  </tbody>\n",
       "</table>\n",
       "<p>320 rows × 3 columns</p>\n",
       "</div>"
      ],
      "text/plain": [
       "     Age  EstimatedSalary  Male\n",
       "294   35            57000     0\n",
       "272   60            42000     1\n",
       "260   35            77000     0\n",
       "249   35            97000     0\n",
       "343   47            51000     0\n",
       "..   ...              ...   ...\n",
       "365   59            29000     0\n",
       "106   26            35000     0\n",
       "227   56           133000     1\n",
       "201   49            74000     1\n",
       "394   39            59000     0\n",
       "\n",
       "[320 rows x 3 columns]"
      ]
     },
     "execution_count": 22,
     "metadata": {},
     "output_type": "execute_result"
    }
   ],
   "source": [
    "X_train"
   ]
  },
  {
   "cell_type": "code",
   "execution_count": 23,
   "id": "5244febe-5868-4e62-bbda-c771890e47e1",
   "metadata": {},
   "outputs": [
    {
     "data": {
      "text/plain": [
       "294    0\n",
       "272    1\n",
       "260    0\n",
       "249    1\n",
       "343    1\n",
       "      ..\n",
       "365    1\n",
       "106    0\n",
       "227    1\n",
       "201    0\n",
       "394    0\n",
       "Name: Purchased, Length: 320, dtype: int64"
      ]
     },
     "execution_count": 23,
     "metadata": {},
     "output_type": "execute_result"
    }
   ],
   "source": [
    "y_train"
   ]
  },
  {
   "cell_type": "code",
   "execution_count": 24,
   "id": "3d701812-afa5-41ba-b880-31708e6f37d1",
   "metadata": {},
   "outputs": [],
   "source": [
    "logreg_model = LogisticRegression(random_state=6)"
   ]
  },
  {
   "cell_type": "code",
   "execution_count": 25,
   "id": "0f99f49d-5579-417d-8e44-259be8ad2c00",
   "metadata": {},
   "outputs": [
    {
     "data": {
      "text/html": [
       "<style>#sk-container-id-1 {color: black;background-color: white;}#sk-container-id-1 pre{padding: 0;}#sk-container-id-1 div.sk-toggleable {background-color: white;}#sk-container-id-1 label.sk-toggleable__label {cursor: pointer;display: block;width: 100%;margin-bottom: 0;padding: 0.3em;box-sizing: border-box;text-align: center;}#sk-container-id-1 label.sk-toggleable__label-arrow:before {content: \"▸\";float: left;margin-right: 0.25em;color: #696969;}#sk-container-id-1 label.sk-toggleable__label-arrow:hover:before {color: black;}#sk-container-id-1 div.sk-estimator:hover label.sk-toggleable__label-arrow:before {color: black;}#sk-container-id-1 div.sk-toggleable__content {max-height: 0;max-width: 0;overflow: hidden;text-align: left;background-color: #f0f8ff;}#sk-container-id-1 div.sk-toggleable__content pre {margin: 0.2em;color: black;border-radius: 0.25em;background-color: #f0f8ff;}#sk-container-id-1 input.sk-toggleable__control:checked~div.sk-toggleable__content {max-height: 200px;max-width: 100%;overflow: auto;}#sk-container-id-1 input.sk-toggleable__control:checked~label.sk-toggleable__label-arrow:before {content: \"▾\";}#sk-container-id-1 div.sk-estimator input.sk-toggleable__control:checked~label.sk-toggleable__label {background-color: #d4ebff;}#sk-container-id-1 div.sk-label input.sk-toggleable__control:checked~label.sk-toggleable__label {background-color: #d4ebff;}#sk-container-id-1 input.sk-hidden--visually {border: 0;clip: rect(1px 1px 1px 1px);clip: rect(1px, 1px, 1px, 1px);height: 1px;margin: -1px;overflow: hidden;padding: 0;position: absolute;width: 1px;}#sk-container-id-1 div.sk-estimator {font-family: monospace;background-color: #f0f8ff;border: 1px dotted black;border-radius: 0.25em;box-sizing: border-box;margin-bottom: 0.5em;}#sk-container-id-1 div.sk-estimator:hover {background-color: #d4ebff;}#sk-container-id-1 div.sk-parallel-item::after {content: \"\";width: 100%;border-bottom: 1px solid gray;flex-grow: 1;}#sk-container-id-1 div.sk-label:hover label.sk-toggleable__label {background-color: #d4ebff;}#sk-container-id-1 div.sk-serial::before {content: \"\";position: absolute;border-left: 1px solid gray;box-sizing: border-box;top: 0;bottom: 0;left: 50%;z-index: 0;}#sk-container-id-1 div.sk-serial {display: flex;flex-direction: column;align-items: center;background-color: white;padding-right: 0.2em;padding-left: 0.2em;position: relative;}#sk-container-id-1 div.sk-item {position: relative;z-index: 1;}#sk-container-id-1 div.sk-parallel {display: flex;align-items: stretch;justify-content: center;background-color: white;position: relative;}#sk-container-id-1 div.sk-item::before, #sk-container-id-1 div.sk-parallel-item::before {content: \"\";position: absolute;border-left: 1px solid gray;box-sizing: border-box;top: 0;bottom: 0;left: 50%;z-index: -1;}#sk-container-id-1 div.sk-parallel-item {display: flex;flex-direction: column;z-index: 1;position: relative;background-color: white;}#sk-container-id-1 div.sk-parallel-item:first-child::after {align-self: flex-end;width: 50%;}#sk-container-id-1 div.sk-parallel-item:last-child::after {align-self: flex-start;width: 50%;}#sk-container-id-1 div.sk-parallel-item:only-child::after {width: 0;}#sk-container-id-1 div.sk-dashed-wrapped {border: 1px dashed gray;margin: 0 0.4em 0.5em 0.4em;box-sizing: border-box;padding-bottom: 0.4em;background-color: white;}#sk-container-id-1 div.sk-label label {font-family: monospace;font-weight: bold;display: inline-block;line-height: 1.2em;}#sk-container-id-1 div.sk-label-container {text-align: center;}#sk-container-id-1 div.sk-container {/* jupyter's `normalize.less` sets `[hidden] { display: none; }` but bootstrap.min.css set `[hidden] { display: none !important; }` so we also need the `!important` here to be able to override the default hidden behavior on the sphinx rendered scikit-learn.org. See: https://github.com/scikit-learn/scikit-learn/issues/21755 */display: inline-block !important;position: relative;}#sk-container-id-1 div.sk-text-repr-fallback {display: none;}</style><div id=\"sk-container-id-1\" class=\"sk-top-container\"><div class=\"sk-text-repr-fallback\"><pre>LogisticRegression(random_state=6)</pre><b>In a Jupyter environment, please rerun this cell to show the HTML representation or trust the notebook. <br />On GitHub, the HTML representation is unable to render, please try loading this page with nbviewer.org.</b></div><div class=\"sk-container\" hidden><div class=\"sk-item\"><div class=\"sk-estimator sk-toggleable\"><input class=\"sk-toggleable__control sk-hidden--visually\" id=\"sk-estimator-id-1\" type=\"checkbox\" checked><label for=\"sk-estimator-id-1\" class=\"sk-toggleable__label sk-toggleable__label-arrow\">LogisticRegression</label><div class=\"sk-toggleable__content\"><pre>LogisticRegression(random_state=6)</pre></div></div></div></div></div>"
      ],
      "text/plain": [
       "LogisticRegression(random_state=6)"
      ]
     },
     "execution_count": 25,
     "metadata": {},
     "output_type": "execute_result"
    }
   ],
   "source": [
    "logreg_model.fit(X_train,y_train)"
   ]
  },
  {
   "cell_type": "code",
   "execution_count": 26,
   "id": "365b42fb-ba8a-4700-affa-8c2ea644eaf6",
   "metadata": {},
   "outputs": [],
   "source": [
    "predictions=logreg_model.predict(X_test)"
   ]
  },
  {
   "cell_type": "code",
   "execution_count": 27,
   "id": "511f3d3f-968a-450e-aa10-66cf5bee0007",
   "metadata": {},
   "outputs": [
    {
     "data": {
      "text/plain": [
       "array([0, 0, 0, 0, 0, 0, 0, 0, 0, 0, 0, 0, 0, 0, 0, 0, 0, 0, 0, 0, 0, 0,\n",
       "       0, 0, 0, 0, 0, 0, 0, 0, 0, 0, 0, 0, 0, 0, 0, 0, 0, 0, 0, 0, 0, 0,\n",
       "       0, 0, 0, 0, 0, 0, 0, 0, 0, 0, 0, 0, 0, 0, 0, 0, 0, 0, 0, 0, 0, 0,\n",
       "       0, 0, 0, 0, 0, 0, 0, 0, 0, 0, 0, 0, 0, 0], dtype=int64)"
      ]
     },
     "execution_count": 27,
     "metadata": {},
     "output_type": "execute_result"
    }
   ],
   "source": [
    "predictions"
   ]
  },
  {
   "cell_type": "code",
   "execution_count": 28,
   "id": "c2c5db4f-2c9d-496b-8c59-aacc4d9006a6",
   "metadata": {},
   "outputs": [
    {
     "data": {
      "text/plain": [
       "137    1\n",
       "138    0\n",
       "13     0\n",
       "95     0\n",
       "175    0\n",
       "      ..\n",
       "209    0\n",
       "223    1\n",
       "90     0\n",
       "286    0\n",
       "140    0\n",
       "Name: Purchased, Length: 80, dtype: int64"
      ]
     },
     "execution_count": 28,
     "metadata": {},
     "output_type": "execute_result"
    }
   ],
   "source": [
    "y_test"
   ]
  },
  {
   "cell_type": "code",
   "execution_count": 29,
   "id": "1db6d1af-9687-4402-8ab6-ad99e63901c0",
   "metadata": {},
   "outputs": [
    {
     "name": "stdout",
     "output_type": "stream",
     "text": [
      "<class 'pandas.core.series.Series'>\n",
      "Index: 80 entries, 137 to 140\n",
      "Series name: Purchased\n",
      "Non-Null Count  Dtype\n",
      "--------------  -----\n",
      "80 non-null     int64\n",
      "dtypes: int64(1)\n",
      "memory usage: 1.2 KB\n"
     ]
    }
   ],
   "source": [
    "y_test.info()"
   ]
  },
  {
   "cell_type": "code",
   "execution_count": 30,
   "id": "190b233d-7d8a-4310-9a3d-ad7f78358f52",
   "metadata": {},
   "outputs": [],
   "source": [
    "from sklearn.metrics import classification_report"
   ]
  },
  {
   "cell_type": "code",
   "execution_count": 31,
   "id": "2b6235a8-f589-48f7-82c0-0e56647b2986",
   "metadata": {},
   "outputs": [
    {
     "name": "stderr",
     "output_type": "stream",
     "text": [
      "C:\\Users\\ayush\\anaconda3\\Lib\\site-packages\\sklearn\\metrics\\_classification.py:1344: UndefinedMetricWarning: Precision and F-score are ill-defined and being set to 0.0 in labels with no predicted samples. Use `zero_division` parameter to control this behavior.\n",
      "  _warn_prf(average, modifier, msg_start, len(result))\n",
      "C:\\Users\\ayush\\anaconda3\\Lib\\site-packages\\sklearn\\metrics\\_classification.py:1344: UndefinedMetricWarning: Precision and F-score are ill-defined and being set to 0.0 in labels with no predicted samples. Use `zero_division` parameter to control this behavior.\n",
      "  _warn_prf(average, modifier, msg_start, len(result))\n",
      "C:\\Users\\ayush\\anaconda3\\Lib\\site-packages\\sklearn\\metrics\\_classification.py:1344: UndefinedMetricWarning: Precision and F-score are ill-defined and being set to 0.0 in labels with no predicted samples. Use `zero_division` parameter to control this behavior.\n",
      "  _warn_prf(average, modifier, msg_start, len(result))\n"
     ]
    },
    {
     "data": {
      "text/plain": [
       "'              precision    recall  f1-score   support\\n\\n           0       0.65      1.00      0.79        52\\n           1       0.00      0.00      0.00        28\\n\\n    accuracy                           0.65        80\\n   macro avg       0.33      0.50      0.39        80\\nweighted avg       0.42      0.65      0.51        80\\n'"
      ]
     },
     "execution_count": 31,
     "metadata": {},
     "output_type": "execute_result"
    }
   ],
   "source": [
    "classification_report(y_test,predictions)"
   ]
  },
  {
   "cell_type": "code",
   "execution_count": 32,
   "id": "f4d59b6b-d754-4ae2-a1c5-ea4085f8bb7f",
   "metadata": {},
   "outputs": [],
   "source": [
    "from sklearn.metrics import confusion_matrix"
   ]
  },
  {
   "cell_type": "code",
   "execution_count": 33,
   "id": "1f628024-f2a0-4e0d-8d5c-a6d1d062f549",
   "metadata": {},
   "outputs": [
    {
     "data": {
      "text/plain": [
       "array([[52,  0],\n",
       "       [28,  0]], dtype=int64)"
      ]
     },
     "execution_count": 33,
     "metadata": {},
     "output_type": "execute_result"
    }
   ],
   "source": [
    "confusion_matrix(y_test,predictions)"
   ]
  },
  {
   "cell_type": "code",
   "execution_count": 34,
   "id": "7d056eb6-e925-44c0-b765-17950061b149",
   "metadata": {},
   "outputs": [],
   "source": [
    "from sklearn.metrics import accuracy_score\n"
   ]
  },
  {
   "cell_type": "code",
   "execution_count": 35,
   "id": "146ebf82-bbb1-4ba2-b86c-e6a13cd880ff",
   "metadata": {},
   "outputs": [],
   "source": [
    "accuracy = accuracy_score(y_test,predictions)"
   ]
  },
  {
   "cell_type": "code",
   "execution_count": 36,
   "id": "44785908-4262-4b7a-9353-7ef542cf2e60",
   "metadata": {},
   "outputs": [
    {
     "data": {
      "text/plain": [
       "0.65"
      ]
     },
     "execution_count": 36,
     "metadata": {},
     "output_type": "execute_result"
    }
   ],
   "source": [
    "accuracy"
   ]
  },
  {
   "cell_type": "code",
   "execution_count": 37,
   "id": "19f01bff-7205-4cab-a23b-cea202cb26ae",
   "metadata": {},
   "outputs": [],
   "source": [
    "from sklearn.preprocessing import StandardScaler\n",
    "scaler = StandardScaler()\n",
    "X_train = scaler.fit_transform(X_train)\n",
    "X_test = scaler.fit_transform(X_test)"
   ]
  },
  {
   "cell_type": "code",
   "execution_count": 38,
   "id": "599261d4-1b83-4c11-8741-2a5c5212327d",
   "metadata": {},
   "outputs": [
    {
     "data": {
      "text/plain": [
       "array([[-0.25596993, -0.35191452, -0.96922337],\n",
       "       [ 2.0843266 , -0.81031064,  1.03175391],\n",
       "       [-0.25596993,  0.2592803 , -0.96922337],\n",
       "       [-0.25596993,  0.87047513, -0.96922337],\n",
       "       [ 0.8673724 , -0.53527297, -0.96922337],\n",
       "       [ 1.24181985, -1.39094572,  1.03175391],\n",
       "       [-1.09847669, -1.6048639 ,  1.03175391],\n",
       "       [-0.91125296, -1.11590805,  1.03175391],\n",
       "       [ 2.0843266 ,  1.20663228, -0.96922337],\n",
       "       [ 1.52265543,  0.04536212,  1.03175391],\n",
       "       [-0.44319366, -0.84087038, -0.96922337],\n",
       "       [-0.3495818 ,  0.1064816 , -0.96922337],\n",
       "       [ 0.02486565, -0.22967555,  1.03175391],\n",
       "       [-1.00486483,  0.83991538, -0.96922337],\n",
       "       [ 0.3993131 ,  0.35095953, -0.96922337],\n",
       "       [ 1.89710288, -0.9325496 , -0.96922337],\n",
       "       [-1.09847669, -1.57430416, -0.96922337],\n",
       "       [ 1.33543171,  2.4901414 ,  1.03175391],\n",
       "       [-0.06874621, -1.0853483 , -0.96922337],\n",
       "       [ 0.30570124,  0.1064816 , -0.96922337],\n",
       "       [ 0.77376054, -1.11590805, -0.96922337],\n",
       "       [-0.06874621,  0.04536212,  1.03175391],\n",
       "       [ 1.14820799, -1.48262494, -0.96922337],\n",
       "       [ 0.02486565,  0.07592186,  1.03175391],\n",
       "       [-0.72402924,  0.6259972 ,  1.03175391],\n",
       "       [ 0.8673724 , -1.17702753, -0.96922337],\n",
       "       [ 0.96098427, -1.20758727, -0.96922337],\n",
       "       [ 0.02486565, -0.22967555,  1.03175391],\n",
       "       [ 1.42904357,  2.27622322, -0.96922337],\n",
       "       [-1.66014786, -1.39094572, -0.96922337],\n",
       "       [ 1.05459613,  0.6259972 ,  1.03175391],\n",
       "       [-1.00486483, -0.32135478, -0.96922337],\n",
       "       [-0.3495818 ,  1.42055047,  1.03175391],\n",
       "       [-0.25596993, -0.2602353 , -0.96922337],\n",
       "       [-0.3495818 , -0.77975089,  1.03175391],\n",
       "       [ 0.3993131 ,  0.04536212, -0.96922337],\n",
       "       [-0.91125296,  0.47319849, -0.96922337],\n",
       "       [-1.00486483,  0.59543746,  1.03175391],\n",
       "       [-0.63041738, -0.01575737, -0.96922337],\n",
       "       [-1.66014786,  0.41207901, -0.96922337],\n",
       "       [-1.28570041, -0.32135478,  1.03175391],\n",
       "       [ 1.99071474,  0.59543746, -0.96922337],\n",
       "       [-0.06874621,  0.28984004, -0.96922337],\n",
       "       [ 0.30570124,  0.1064816 , -0.96922337],\n",
       "       [-0.91125296, -0.413034  , -0.96922337],\n",
       "       [-0.25596993,  0.59543746,  1.03175391],\n",
       "       [-1.28570041, -1.11590805, -0.96922337],\n",
       "       [ 0.11847751, -0.81031064,  1.03175391],\n",
       "       [ 0.96098427, -0.84087038,  1.03175391],\n",
       "       [-0.06874621, -0.35191452, -0.96922337],\n",
       "       [-1.56653599,  0.1064816 ,  1.03175391],\n",
       "       [ 1.05459613,  2.21510373, -0.96922337],\n",
       "       [-0.53680552, -1.54374442,  1.03175391],\n",
       "       [ 0.21208937, -0.2602353 , -0.96922337],\n",
       "       [ 0.3993131 ,  1.08439331,  1.03175391],\n",
       "       [ 1.80349102,  0.16760108,  1.03175391],\n",
       "       [-1.09847669, -1.17702753,  1.03175391],\n",
       "       [-0.63041738,  0.22872056,  1.03175391],\n",
       "       [ 1.6162673 , -0.90198986,  1.03175391],\n",
       "       [ 0.96098427, -1.02422882, -0.96922337],\n",
       "       [ 0.21208937,  1.17607254,  1.03175391],\n",
       "       [ 0.02486565, -0.29079504,  1.03175391],\n",
       "       [ 1.33543171,  1.38999072, -0.96922337],\n",
       "       [-1.00486483, -0.32135478,  1.03175391],\n",
       "       [ 0.58653682,  2.15398425, -0.96922337],\n",
       "       [-0.44319366, -0.77975089,  1.03175391],\n",
       "       [-0.06874621,  2.09286477, -0.96922337],\n",
       "       [ 1.6162673 ,  1.72614788, -0.96922337],\n",
       "       [-0.91125296,  0.56487771, -0.96922337],\n",
       "       [-1.75375972, -1.51318468,  1.03175391],\n",
       "       [-1.09847669, -1.63542364, -0.96922337],\n",
       "       [-0.06874621,  0.19816082,  1.03175391],\n",
       "       [-1.37931227, -0.16855607,  1.03175391],\n",
       "       [-0.72402924,  0.32039979, -0.96922337],\n",
       "       [ 1.05459613, -1.23814701,  1.03175391],\n",
       "       [ 0.21208937, -0.29079504,  1.03175391],\n",
       "       [-0.8176411 ,  0.44263875, -0.96922337],\n",
       "       [-0.44319366, -1.14646779,  1.03175391],\n",
       "       [-0.25596993, -1.32982623, -0.96922337],\n",
       "       [ 0.68014868, -1.42150546, -0.96922337],\n",
       "       [ 1.52265543,  1.08439331, -0.96922337],\n",
       "       [-1.19208855, -1.0853483 ,  1.03175391],\n",
       "       [-1.00486483,  0.47319849, -0.96922337],\n",
       "       [ 0.8673724 , -0.59639245, -0.96922337],\n",
       "       [ 0.68014868,  1.90950632, -0.96922337],\n",
       "       [-0.53680552,  2.03174529, -0.96922337],\n",
       "       [-1.37931227,  0.41207901, -0.96922337],\n",
       "       [ 0.3993131 ,  1.20663228, -0.96922337],\n",
       "       [-1.28570041, -1.39094572,  1.03175391],\n",
       "       [ 0.21208937,  2.24566347, -0.96922337],\n",
       "       [ 1.24181985,  2.36790244, -0.96922337],\n",
       "       [-0.72402924, -0.19911581, -0.96922337],\n",
       "       [-1.75375972, -1.32982623,  1.03175391],\n",
       "       [ 0.30570124, -0.16855607, -0.96922337],\n",
       "       [ 0.96098427,  0.83991538, -0.96922337],\n",
       "       [-0.06874621,  2.36790244, -0.96922337],\n",
       "       [-1.84737158, -0.01575737, -0.96922337],\n",
       "       [-0.8176411 , -0.65751193, -0.96922337],\n",
       "       [ 0.02486565, -0.56583271, -0.96922337],\n",
       "       [ 1.05459613, -0.99366908, -0.96922337],\n",
       "       [-1.47292413, -1.54374442,  1.03175391],\n",
       "       [ 0.8673724 , -0.65751193, -0.96922337],\n",
       "       [ 0.02486565, -0.413034  , -0.96922337],\n",
       "       [ 1.33543171,  0.65655694, -0.96922337],\n",
       "       [-0.25596993,  0.07592186, -0.96922337],\n",
       "       [ 0.30570124,  0.1064816 , -0.96922337],\n",
       "       [-1.56653599, -0.01575737, -0.96922337],\n",
       "       [ 0.77376054,  0.59543746,  1.03175391],\n",
       "       [ 1.14820799, -0.99366908, -0.96922337],\n",
       "       [ 0.49292496,  1.32887124, -0.96922337],\n",
       "       [ 0.11847751,  0.83991538,  1.03175391],\n",
       "       [ 2.0843266 , -0.68807167, -0.96922337],\n",
       "       [ 0.8673724 ,  1.11495305,  1.03175391],\n",
       "       [-0.16235807, -0.16855607, -0.96922337],\n",
       "       [-1.00486483,  0.65655694,  1.03175391],\n",
       "       [-0.25596993,  0.1064816 , -0.96922337],\n",
       "       [-0.25596993,  0.68711668,  1.03175391],\n",
       "       [-0.06874621,  0.35095953, -0.96922337],\n",
       "       [ 0.21208937,  0.07592186,  1.03175391],\n",
       "       [-1.75375972, -1.29926649, -0.96922337],\n",
       "       [ 0.11847751,  1.1455128 ,  1.03175391],\n",
       "       [ 1.42904357,  0.41207901, -0.96922337],\n",
       "       [ 0.8673724 ,  1.17607254, -0.96922337],\n",
       "       [ 1.80349102,  1.63446865, -0.96922337],\n",
       "       [-1.56653599,  0.59543746,  1.03175391],\n",
       "       [-1.09847669,  0.1064816 , -0.96922337],\n",
       "       [-1.28570041, -0.413034  ,  1.03175391],\n",
       "       [-1.09847669, -0.50471322, -0.96922337],\n",
       "       [ 0.30570124,  0.32039979,  1.03175391],\n",
       "       [ 0.68014868,  0.32039979,  1.03175391],\n",
       "       [-1.09847669, -0.77975089, -0.96922337],\n",
       "       [ 1.89710288, -1.39094572, -0.96922337],\n",
       "       [-0.06874621,  0.2592803 ,  1.03175391],\n",
       "       [ 1.99071474,  0.44263875, -0.96922337],\n",
       "       [ 0.21208937, -0.65751193,  1.03175391],\n",
       "       [-0.8176411 ,  0.44263875, -0.96922337],\n",
       "       [-0.16235807,  1.51222969,  1.03175391],\n",
       "       [-1.84737158,  0.41207901,  1.03175391],\n",
       "       [-1.00486483, -0.44359374, -0.96922337],\n",
       "       [-0.63041738,  0.6259972 , -0.96922337],\n",
       "       [-1.66014786,  0.53431797,  1.03175391],\n",
       "       [ 0.02486565,  0.07592186,  1.03175391],\n",
       "       [-0.53680552,  1.48166995, -0.96922337],\n",
       "       [-0.25596993, -0.413034  ,  1.03175391],\n",
       "       [ 0.8673724 , -1.32982623,  1.03175391],\n",
       "       [ 0.11847751,  2.00118555, -0.96922337],\n",
       "       [ 1.99071474, -0.81031064, -0.96922337],\n",
       "       [ 1.14820799, -0.74919115, -0.96922337],\n",
       "       [ 0.11847751,  0.32039979, -0.96922337],\n",
       "       [ 0.96098427, -1.0853483 ,  1.03175391],\n",
       "       [ 0.11847751, -0.81031064,  1.03175391],\n",
       "       [ 0.8673724 , -1.48262494,  1.03175391],\n",
       "       [ 1.99071474,  1.87894658,  1.03175391],\n",
       "       [ 1.89710288, -0.65751193, -0.96922337],\n",
       "       [-1.09847669,  0.53431797,  1.03175391],\n",
       "       [ 0.02486565, -0.53527297,  1.03175391],\n",
       "       [ 0.02486565, -0.56583271, -0.96922337],\n",
       "       [ 0.3993131 , -0.10743659,  1.03175391],\n",
       "       [-1.84737158,  0.53431797, -0.96922337],\n",
       "       [-0.3495818 , -0.77975089, -0.96922337],\n",
       "       [-0.44319366, -0.2602353 , -0.96922337],\n",
       "       [ 0.96098427,  0.16760108,  1.03175391],\n",
       "       [-0.25596993, -0.56583271,  1.03175391],\n",
       "       [-1.19208855,  0.32039979,  1.03175391],\n",
       "       [ 1.05459613,  0.59543746,  1.03175391],\n",
       "       [-1.75375972, -1.4520652 , -0.96922337],\n",
       "       [-0.06874621, -0.413034  ,  1.03175391],\n",
       "       [-0.06874621,  0.16760108,  1.03175391],\n",
       "       [-0.25596993, -0.56583271, -0.96922337],\n",
       "       [-1.28570041, -1.26870675, -0.96922337],\n",
       "       [-0.53680552,  0.96215435,  1.03175391],\n",
       "       [-0.16235807, -1.0853483 ,  1.03175391],\n",
       "       [-1.09847669,  0.38151927,  1.03175391],\n",
       "       [-0.25596993, -0.90198986,  1.03175391],\n",
       "       [ 0.8673724 , -0.77975089,  1.03175391],\n",
       "       [-0.91125296,  1.66502839,  1.03175391],\n",
       "       [ 0.77376054, -1.23814701,  1.03175391],\n",
       "       [ 0.68014868, -0.71863141, -0.96922337],\n",
       "       [-1.28570041,  0.47319849,  1.03175391],\n",
       "       [-0.53680552,  0.53431797, -0.96922337],\n",
       "       [ 1.05459613, -0.90198986, -0.96922337],\n",
       "       [-0.63041738, -1.54374442,  1.03175391],\n",
       "       [ 0.11847751,  0.07592186,  1.03175391],\n",
       "       [ 0.68014868, -1.42150546,  1.03175391],\n",
       "       [ 1.89710288,  0.80935564, -0.96922337],\n",
       "       [-0.06874621,  0.35095953, -0.96922337],\n",
       "       [-0.25596993, -1.26870675,  1.03175391],\n",
       "       [-0.3495818 , -1.32982623, -0.96922337],\n",
       "       [-1.37931227, -1.48262494,  1.03175391],\n",
       "       [-0.91125296,  0.50375823, -0.96922337],\n",
       "       [ 1.33543171, -1.4520652 , -0.96922337],\n",
       "       [-0.91125296, -0.96310934, -0.96922337],\n",
       "       [ 0.3993131 , -0.44359374,  1.03175391],\n",
       "       [-0.16235807,  2.30678296,  1.03175391],\n",
       "       [-1.84737158, -0.74919115, -0.96922337],\n",
       "       [ 0.3993131 , -0.10743659,  1.03175391],\n",
       "       [-1.00486483,  0.6259972 ,  1.03175391],\n",
       "       [-0.72402924, -0.59639245,  1.03175391],\n",
       "       [ 1.99071474,  2.27622322,  1.03175391],\n",
       "       [-0.25596993, -0.65751193, -0.96922337],\n",
       "       [ 0.30570124, -0.71863141,  1.03175391],\n",
       "       [ 0.77376054,  0.41207901, -0.96922337],\n",
       "       [ 0.30570124,  0.56487771,  1.03175391],\n",
       "       [ 0.96098427,  2.12342451, -0.96922337],\n",
       "       [-0.16235807,  0.93159461,  1.03175391],\n",
       "       [-1.84737158, -0.50471322,  1.03175391],\n",
       "       [ 0.8673724 , -1.39094572,  1.03175391],\n",
       "       [-0.16235807,  0.19816082, -0.96922337],\n",
       "       [-1.00486483, -1.14646779, -0.96922337],\n",
       "       [ 0.96098427, -1.0853483 ,  1.03175391],\n",
       "       [ 1.05459613, -0.10743659,  1.03175391],\n",
       "       [ 0.21208937,  0.1064816 , -0.96922337],\n",
       "       [-0.53680552,  2.4901414 , -0.96922337],\n",
       "       [-0.72402924,  1.45111021, -0.96922337],\n",
       "       [-1.28570041,  0.6259972 , -0.96922337],\n",
       "       [ 0.21208937, -0.35191452,  1.03175391],\n",
       "       [-1.09847669,  1.51222969, -0.96922337],\n",
       "       [ 0.02486565,  1.35943098, -0.96922337],\n",
       "       [-0.25596993, -0.32135478,  1.03175391],\n",
       "       [-1.09847669, -1.63542364,  1.03175391],\n",
       "       [-1.28570041, -0.413034  , -0.96922337],\n",
       "       [ 1.42904357, -1.05478856, -0.96922337],\n",
       "       [ 0.11847751,  2.00118555,  1.03175391],\n",
       "       [-0.06874621,  0.07592186, -0.96922337],\n",
       "       [-1.09847669,  0.35095953,  1.03175391],\n",
       "       [-0.06874621,  0.1064816 ,  1.03175391],\n",
       "       [-1.66014786,  0.41207901, -0.96922337],\n",
       "       [ 0.58653682, -0.90198986, -0.96922337],\n",
       "       [ 1.6162673 ,  1.87894658, -0.96922337],\n",
       "       [-1.00486483, -1.48262494,  1.03175391],\n",
       "       [ 1.05459613,  0.53431797,  1.03175391],\n",
       "       [ 1.42904357,  1.08439331, -0.96922337],\n",
       "       [ 1.80349102, -1.0853483 , -0.96922337],\n",
       "       [-1.00486483, -0.35191452, -0.96922337],\n",
       "       [ 1.33543171, -0.9325496 , -0.96922337],\n",
       "       [-0.25596993, -0.29079504,  1.03175391],\n",
       "       [-0.8176411 ,  0.19816082,  1.03175391],\n",
       "       [-0.25596993,  0.32039979,  1.03175391],\n",
       "       [ 0.3993131 ,  0.65655694, -0.96922337],\n",
       "       [-1.66014786,  0.16760108,  1.03175391],\n",
       "       [-0.16235807, -0.56583271, -0.96922337],\n",
       "       [ 0.77376054, -0.84087038, -0.96922337],\n",
       "       [-1.75375972,  0.04536212,  1.03175391],\n",
       "       [-0.44319366,  1.35943098, -0.96922337],\n",
       "       [-1.47292413, -1.26870675, -0.96922337],\n",
       "       [-1.00486483, -1.57430416, -0.96922337],\n",
       "       [ 1.52265543,  1.20663228, -0.96922337],\n",
       "       [-0.91125296, -0.29079504,  1.03175391],\n",
       "       [ 2.0843266 , -0.81031064,  1.03175391],\n",
       "       [-0.25596993, -0.10743659, -0.96922337],\n",
       "       [ 1.42904357,  0.1064816 ,  1.03175391],\n",
       "       [-1.19208855,  0.35095953,  1.03175391],\n",
       "       [-0.06874621, -0.50471322,  1.03175391],\n",
       "       [ 0.77376054,  0.16760108, -0.96922337],\n",
       "       [-0.06874621,  0.32039979,  1.03175391],\n",
       "       [ 0.11847751,  0.13704134, -0.96922337],\n",
       "       [ 1.99071474,  0.22872056, -0.96922337],\n",
       "       [-1.47292413, -0.16855607, -0.96922337],\n",
       "       [-0.91125296, -0.74919115, -0.96922337],\n",
       "       [ 0.8673724 , -1.05478856,  1.03175391],\n",
       "       [-0.44319366, -1.23814701, -0.96922337],\n",
       "       [-0.25596993,  1.20663228,  1.03175391],\n",
       "       [ 0.77376054, -1.39094572,  1.03175391],\n",
       "       [-0.25596993, -0.47415348,  1.03175391],\n",
       "       [-0.44319366, -0.53527297, -0.96922337],\n",
       "       [-1.66014786, -0.59639245,  1.03175391],\n",
       "       [-1.09847669,  0.47319849, -0.96922337],\n",
       "       [-0.25596993,  0.19816082,  1.03175391],\n",
       "       [ 0.96098427, -1.17702753, -0.96922337],\n",
       "       [ 0.21208937,  0.19816082,  1.03175391],\n",
       "       [-0.53680552,  1.57334917,  1.03175391],\n",
       "       [ 0.77376054,  0.83991538, -0.96922337],\n",
       "       [ 0.02486565,  1.32887124, -0.96922337],\n",
       "       [ 0.30570124,  0.1064816 ,  1.03175391],\n",
       "       [ 0.3993131 ,  0.13704134,  1.03175391],\n",
       "       [ 0.30570124, -0.29079504,  1.03175391],\n",
       "       [ 1.80349102, -0.2602353 ,  1.03175391],\n",
       "       [ 1.70987916, -0.2602353 ,  1.03175391],\n",
       "       [ 1.24181985,  2.00118555, -0.96922337],\n",
       "       [-0.91125296,  0.32039979,  1.03175391],\n",
       "       [-0.72402924, -1.63542364,  1.03175391],\n",
       "       [ 0.96098427,  2.21510373,  1.03175391],\n",
       "       [ 0.30570124, -0.53527297, -0.96922337],\n",
       "       [-0.63041738,  1.51222969, -0.96922337],\n",
       "       [ 0.30570124, -1.17702753, -0.96922337],\n",
       "       [-0.16235807, -0.2602353 ,  1.03175391],\n",
       "       [ 0.30570124, -0.50471322,  1.03175391],\n",
       "       [-1.09847669, -1.11590805,  1.03175391],\n",
       "       [-0.91125296,  0.6259972 ,  1.03175391],\n",
       "       [-0.72402924,  0.35095953,  1.03175391],\n",
       "       [-1.37931227, -0.07687685, -0.96922337],\n",
       "       [-0.72402924,  0.56487771,  1.03175391],\n",
       "       [-1.66014786, -0.99366908, -0.96922337],\n",
       "       [ 0.3993131 ,  0.35095953,  1.03175391],\n",
       "       [ 0.02486565, -0.10743659, -0.96922337],\n",
       "       [-0.8176411 ,  0.35095953,  1.03175391],\n",
       "       [ 0.11847751, -0.22967555, -0.96922337],\n",
       "       [-1.00486483,  2.09286477, -0.96922337],\n",
       "       [ 1.89710288,  0.99271409, -0.96922337],\n",
       "       [-0.63041738, -0.32135478,  1.03175391],\n",
       "       [ 0.96098427,  0.65655694,  1.03175391],\n",
       "       [ 0.96098427,  1.90950632, -0.96922337],\n",
       "       [ 0.11847751,  0.07592186, -0.96922337],\n",
       "       [ 0.21208937, -0.35191452,  1.03175391],\n",
       "       [-1.19208855,  0.65655694,  1.03175391],\n",
       "       [ 1.05459613, -1.23814701,  1.03175391],\n",
       "       [-0.63041738, -0.07687685,  1.03175391],\n",
       "       [ 0.21208937, -0.10743659,  1.03175391],\n",
       "       [-0.3495818 ,  1.32887124,  1.03175391],\n",
       "       [-0.25596993, -1.48262494,  1.03175391],\n",
       "       [-0.25596993, -0.22967555,  1.03175391],\n",
       "       [ 0.68014868, -1.11590805,  1.03175391],\n",
       "       [ 1.89710288,  2.30678296,  1.03175391],\n",
       "       [ 0.8673724 , -0.56583271, -0.96922337],\n",
       "       [-0.16235807, -0.44359374, -0.96922337],\n",
       "       [ 1.99071474, -1.20758727, -0.96922337],\n",
       "       [-1.09847669, -1.02422882, -0.96922337],\n",
       "       [ 1.70987916,  1.9706258 ,  1.03175391],\n",
       "       [ 1.05459613,  0.16760108,  1.03175391],\n",
       "       [ 0.11847751, -0.29079504, -0.96922337]])"
      ]
     },
     "execution_count": 38,
     "metadata": {},
     "output_type": "execute_result"
    }
   ],
   "source": [
    "X_train"
   ]
  },
  {
   "cell_type": "code",
   "execution_count": 39,
   "id": "79ec7810-4fd9-40e3-95d8-a730cbf735fc",
   "metadata": {},
   "outputs": [
    {
     "data": {
      "text/plain": [
       "array([[-0.76708043,  0.83941   ,  0.97530483],\n",
       "       [-0.97616539, -0.40608243, -1.02532046],\n",
       "       [-0.55799548, -1.46994054,  0.97530483],\n",
       "       [-0.24436804, -0.79529881, -1.02532046],\n",
       "       [-1.49887778, -1.21046295, -1.02532046],\n",
       "       [-0.03528309,  0.47614138, -1.02532046],\n",
       "       [-1.49887778, -0.69150777, -1.02532046],\n",
       "       [ 0.27834435, -0.35418691,  0.97530483],\n",
       "       [ 0.4874293 ,  0.00908172, -1.02532046],\n",
       "       [-0.03528309, -0.56176898,  0.97530483],\n",
       "       [-0.13982556, -0.58771674,  0.97530483],\n",
       "       [ 0.4874293 ,  1.92921587,  0.97530483],\n",
       "       [ 0.38288683,  0.13882051, -1.02532046],\n",
       "       [-0.24436804, -0.95098536,  0.97530483],\n",
       "       [-1.18525034,  0.13882051, -1.02532046],\n",
       "       [ 0.27834435,  0.00908172, -1.02532046],\n",
       "       [ 0.38288683, -0.38013467, -1.02532046],\n",
       "       [-0.55799548,  1.09888759, -1.02532046],\n",
       "       [ 0.90559922,  0.11287275,  0.97530483],\n",
       "       [-0.87162291,  1.90326812,  0.97530483],\n",
       "       [ 2.05556647, -1.26235847, -1.02532046],\n",
       "       [-0.66253795, -0.01686604,  0.97530483],\n",
       "       [-0.87162291, -0.82124657,  0.97530483],\n",
       "       [-1.28979282,  0.32045482,  0.97530483],\n",
       "       [-0.453453  ,  1.92921587, -1.02532046],\n",
       "       [ 0.06925939,  0.13882051, -1.02532046],\n",
       "       [ 0.4874293 , -0.27634363,  0.97530483],\n",
       "       [ 1.01014169,  1.79947708, -1.02532046],\n",
       "       [ 1.01014169,  0.99509655, -1.02532046],\n",
       "       [-0.87162291, -0.82124657,  0.97530483],\n",
       "       [-0.66253795, -1.0547764 , -1.02532046],\n",
       "       [-0.87162291, -1.21046295, -1.02532046],\n",
       "       [-0.24436804,  1.87732036, -1.02532046],\n",
       "       [-1.70796274, -1.52183606, -1.02532046],\n",
       "       [-0.13982556,  1.33241742, -1.02532046],\n",
       "       [ 1.74193904, -1.26235847, -1.02532046],\n",
       "       [-0.13982556,  1.30646966,  0.97530483],\n",
       "       [ 0.90559922,  1.09888759,  0.97530483],\n",
       "       [-1.60342026, -0.50987346, -1.02532046],\n",
       "       [-0.24436804,  0.00908172,  0.97530483],\n",
       "       [ 0.38288683, -0.58771674,  0.97530483],\n",
       "       [ 0.17380187,  0.00908172, -1.02532046],\n",
       "       [-1.91704769,  0.03502947,  0.97530483],\n",
       "       [-0.24436804, -1.36614951,  0.97530483],\n",
       "       [-0.66253795, -0.09470932, -1.02532046],\n",
       "       [-0.66253795, -1.54778382, -1.02532046],\n",
       "       [ 1.951024  ,  0.76156672, -1.02532046],\n",
       "       [ 0.4874293 , -0.56176898, -1.02532046],\n",
       "       [ 0.59197178,  1.51405173, -1.02532046],\n",
       "       [-0.24436804, -0.06876156,  0.97530483],\n",
       "       [ 1.11468417,  1.15078311, -1.02532046],\n",
       "       [ 2.36919391, -1.0547764 ,  0.97530483],\n",
       "       [-0.24436804, -0.0428138 ,  0.97530483],\n",
       "       [ 0.4874293 , -0.53582122,  0.97530483],\n",
       "       [-1.3943353 , -1.44399278,  0.97530483],\n",
       "       [-0.76708043, -1.4958883 ,  0.97530483],\n",
       "       [ 0.17380187,  1.22862638,  0.97530483],\n",
       "       [ 0.38288683, -0.09470932, -1.02532046],\n",
       "       [ 0.80105674, -1.26235847,  0.97530483],\n",
       "       [-0.03528309,  1.79947708,  0.97530483],\n",
       "       [ 1.53285408,  1.64379053, -1.02532046],\n",
       "       [-0.24436804, -1.34020175, -1.02532046],\n",
       "       [ 1.11468417,  1.53999949, -1.02532046],\n",
       "       [ 0.27834435, -0.45797794,  0.97530483],\n",
       "       [ 0.27834435,  0.08692499,  0.97530483],\n",
       "       [ 0.17380187,  0.06097723,  0.97530483],\n",
       "       [-1.28979282, -1.36614951,  0.97530483],\n",
       "       [-0.453453  , -0.14660484, -1.02532046],\n",
       "       [ 1.32376913,  0.34640258, -1.02532046],\n",
       "       [-0.87162291, -0.35418691,  0.97530483],\n",
       "       [ 0.59197178,  1.4102607 ,  0.97530483],\n",
       "       [ 0.90559922, -0.40608243,  0.97530483],\n",
       "       [ 0.4874293 ,  0.11287275, -1.02532046],\n",
       "       [-0.76708043,  1.56594725,  0.97530483],\n",
       "       [ 2.36919391,  0.21666379,  0.97530483],\n",
       "       [ 0.90559922, -1.36614951, -1.02532046],\n",
       "       [ 2.36919391,  0.70967121,  0.97530483],\n",
       "       [-1.60342026,  0.16476827,  0.97530483],\n",
       "       [-0.03528309, -0.32823915, -1.02532046],\n",
       "       [-1.91704769,  0.2685593 ,  0.97530483]])"
      ]
     },
     "execution_count": 39,
     "metadata": {},
     "output_type": "execute_result"
    }
   ],
   "source": [
    "X_test"
   ]
  },
  {
   "cell_type": "code",
   "execution_count": 40,
   "id": "a6b14305-45e3-4378-907e-6c46b6bcf658",
   "metadata": {},
   "outputs": [
    {
     "data": {
      "text/plain": [
       "294    0\n",
       "272    1\n",
       "260    0\n",
       "249    1\n",
       "343    1\n",
       "      ..\n",
       "365    1\n",
       "106    0\n",
       "227    1\n",
       "201    0\n",
       "394    0\n",
       "Name: Purchased, Length: 320, dtype: int64"
      ]
     },
     "execution_count": 40,
     "metadata": {},
     "output_type": "execute_result"
    }
   ],
   "source": [
    "y_train"
   ]
  },
  {
   "cell_type": "code",
   "execution_count": 82,
   "id": "9cfcac63-c5e9-45dc-9470-285729af0aed",
   "metadata": {},
   "outputs": [
    {
     "data": {
      "text/html": [
       "<style>#sk-container-id-2 {color: black;background-color: white;}#sk-container-id-2 pre{padding: 0;}#sk-container-id-2 div.sk-toggleable {background-color: white;}#sk-container-id-2 label.sk-toggleable__label {cursor: pointer;display: block;width: 100%;margin-bottom: 0;padding: 0.3em;box-sizing: border-box;text-align: center;}#sk-container-id-2 label.sk-toggleable__label-arrow:before {content: \"▸\";float: left;margin-right: 0.25em;color: #696969;}#sk-container-id-2 label.sk-toggleable__label-arrow:hover:before {color: black;}#sk-container-id-2 div.sk-estimator:hover label.sk-toggleable__label-arrow:before {color: black;}#sk-container-id-2 div.sk-toggleable__content {max-height: 0;max-width: 0;overflow: hidden;text-align: left;background-color: #f0f8ff;}#sk-container-id-2 div.sk-toggleable__content pre {margin: 0.2em;color: black;border-radius: 0.25em;background-color: #f0f8ff;}#sk-container-id-2 input.sk-toggleable__control:checked~div.sk-toggleable__content {max-height: 200px;max-width: 100%;overflow: auto;}#sk-container-id-2 input.sk-toggleable__control:checked~label.sk-toggleable__label-arrow:before {content: \"▾\";}#sk-container-id-2 div.sk-estimator input.sk-toggleable__control:checked~label.sk-toggleable__label {background-color: #d4ebff;}#sk-container-id-2 div.sk-label input.sk-toggleable__control:checked~label.sk-toggleable__label {background-color: #d4ebff;}#sk-container-id-2 input.sk-hidden--visually {border: 0;clip: rect(1px 1px 1px 1px);clip: rect(1px, 1px, 1px, 1px);height: 1px;margin: -1px;overflow: hidden;padding: 0;position: absolute;width: 1px;}#sk-container-id-2 div.sk-estimator {font-family: monospace;background-color: #f0f8ff;border: 1px dotted black;border-radius: 0.25em;box-sizing: border-box;margin-bottom: 0.5em;}#sk-container-id-2 div.sk-estimator:hover {background-color: #d4ebff;}#sk-container-id-2 div.sk-parallel-item::after {content: \"\";width: 100%;border-bottom: 1px solid gray;flex-grow: 1;}#sk-container-id-2 div.sk-label:hover label.sk-toggleable__label {background-color: #d4ebff;}#sk-container-id-2 div.sk-serial::before {content: \"\";position: absolute;border-left: 1px solid gray;box-sizing: border-box;top: 0;bottom: 0;left: 50%;z-index: 0;}#sk-container-id-2 div.sk-serial {display: flex;flex-direction: column;align-items: center;background-color: white;padding-right: 0.2em;padding-left: 0.2em;position: relative;}#sk-container-id-2 div.sk-item {position: relative;z-index: 1;}#sk-container-id-2 div.sk-parallel {display: flex;align-items: stretch;justify-content: center;background-color: white;position: relative;}#sk-container-id-2 div.sk-item::before, #sk-container-id-2 div.sk-parallel-item::before {content: \"\";position: absolute;border-left: 1px solid gray;box-sizing: border-box;top: 0;bottom: 0;left: 50%;z-index: -1;}#sk-container-id-2 div.sk-parallel-item {display: flex;flex-direction: column;z-index: 1;position: relative;background-color: white;}#sk-container-id-2 div.sk-parallel-item:first-child::after {align-self: flex-end;width: 50%;}#sk-container-id-2 div.sk-parallel-item:last-child::after {align-self: flex-start;width: 50%;}#sk-container-id-2 div.sk-parallel-item:only-child::after {width: 0;}#sk-container-id-2 div.sk-dashed-wrapped {border: 1px dashed gray;margin: 0 0.4em 0.5em 0.4em;box-sizing: border-box;padding-bottom: 0.4em;background-color: white;}#sk-container-id-2 div.sk-label label {font-family: monospace;font-weight: bold;display: inline-block;line-height: 1.2em;}#sk-container-id-2 div.sk-label-container {text-align: center;}#sk-container-id-2 div.sk-container {/* jupyter's `normalize.less` sets `[hidden] { display: none; }` but bootstrap.min.css set `[hidden] { display: none !important; }` so we also need the `!important` here to be able to override the default hidden behavior on the sphinx rendered scikit-learn.org. See: https://github.com/scikit-learn/scikit-learn/issues/21755 */display: inline-block !important;position: relative;}#sk-container-id-2 div.sk-text-repr-fallback {display: none;}</style><div id=\"sk-container-id-2\" class=\"sk-top-container\"><div class=\"sk-text-repr-fallback\"><pre>LogisticRegression(random_state=6)</pre><b>In a Jupyter environment, please rerun this cell to show the HTML representation or trust the notebook. <br />On GitHub, the HTML representation is unable to render, please try loading this page with nbviewer.org.</b></div><div class=\"sk-container\" hidden><div class=\"sk-item\"><div class=\"sk-estimator sk-toggleable\"><input class=\"sk-toggleable__control sk-hidden--visually\" id=\"sk-estimator-id-2\" type=\"checkbox\" checked><label for=\"sk-estimator-id-2\" class=\"sk-toggleable__label sk-toggleable__label-arrow\">LogisticRegression</label><div class=\"sk-toggleable__content\"><pre>LogisticRegression(random_state=6)</pre></div></div></div></div></div>"
      ],
      "text/plain": [
       "LogisticRegression(random_state=6)"
      ]
     },
     "execution_count": 82,
     "metadata": {},
     "output_type": "execute_result"
    }
   ],
   "source": [
    "logreg_model.fit(X_train,y_train)"
   ]
  },
  {
   "cell_type": "code",
   "execution_count": 84,
   "id": "5bf30d0c-b1dd-4d99-bd9e-dee7bd0ef135",
   "metadata": {},
   "outputs": [],
   "source": [
    "predictions2=logreg_model.predict(X_test)"
   ]
  },
  {
   "cell_type": "code",
   "execution_count": 86,
   "id": "684d2f2a-a703-476d-b9ff-a21d41dc8eec",
   "metadata": {},
   "outputs": [
    {
     "data": {
      "text/plain": [
       "array([0, 0, 0, 0, 0, 0, 0, 0, 0, 0, 0, 1, 0, 0, 0, 0, 0, 0, 1, 0, 1, 0,\n",
       "       0, 0, 0, 0, 0, 1, 1, 0, 0, 0, 0, 0, 0, 1, 0, 1, 0, 0, 0, 0, 0, 0,\n",
       "       0, 0, 1, 0, 1, 0, 1, 1, 0, 0, 0, 0, 1, 0, 0, 1, 1, 0, 1, 0, 0, 0,\n",
       "       0, 0, 1, 0, 1, 1, 1, 0, 1, 0, 1, 0, 0, 0], dtype=int64)"
      ]
     },
     "execution_count": 86,
     "metadata": {},
     "output_type": "execute_result"
    }
   ],
   "source": [
    "predictions2"
   ]
  },
  {
   "cell_type": "code",
   "execution_count": 88,
   "id": "165417df-6d5b-4835-9a07-89be82c2a942",
   "metadata": {},
   "outputs": [
    {
     "data": {
      "text/plain": [
       "137    1\n",
       "138    0\n",
       "13     0\n",
       "95     0\n",
       "175    0\n",
       "      ..\n",
       "209    0\n",
       "223    1\n",
       "90     0\n",
       "286    0\n",
       "140    0\n",
       "Name: Purchased, Length: 80, dtype: int64"
      ]
     },
     "execution_count": 88,
     "metadata": {},
     "output_type": "execute_result"
    }
   ],
   "source": [
    "y_test"
   ]
  },
  {
   "cell_type": "code",
   "execution_count": 90,
   "id": "ec794904-135d-4f3b-93f9-20f28ed91fc7",
   "metadata": {},
   "outputs": [
    {
     "data": {
      "text/plain": [
       "array([[49, 10],\n",
       "       [ 3, 18]], dtype=int64)"
      ]
     },
     "execution_count": 90,
     "metadata": {},
     "output_type": "execute_result"
    }
   ],
   "source": [
    "confusion_matrix(predictions2,y_test)"
   ]
  },
  {
   "cell_type": "code",
   "execution_count": 92,
   "id": "1f7b8e26-7d91-48af-8fe6-0e32d302f26f",
   "metadata": {},
   "outputs": [],
   "source": [
    "accuracy2=accuracy_score(y_test,predictions2)"
   ]
  },
  {
   "cell_type": "code",
   "execution_count": 96,
   "id": "8e1faaa4-3d6f-47b0-ab51-d522823c9543",
   "metadata": {},
   "outputs": [
    {
     "data": {
      "text/plain": [
       "83.75"
      ]
     },
     "execution_count": 96,
     "metadata": {},
     "output_type": "execute_result"
    }
   ],
   "source": [
    "accuracy2*100"
   ]
  },
  {
   "cell_type": "code",
   "execution_count": 100,
   "id": "7b458622-4a60-46bd-86a9-ec984eb55d97",
   "metadata": {},
   "outputs": [
    {
     "name": "stdout",
     "output_type": "stream",
     "text": [
      "Accuracy of the model is: 83.75 %\n"
     ]
    }
   ],
   "source": [
    "print('Accuracy of the model is:',accuracy2*100,'%')"
   ]
  },
  {
   "cell_type": "markdown",
   "id": "26cd4b59-153e-489b-9937-53b2f02311a3",
   "metadata": {},
   "source": [
    "## End"
   ]
  },
  {
   "cell_type": "code",
   "execution_count": 11,
   "id": "a4474747-aa8b-4273-b3c0-01b8b1cdb51e",
   "metadata": {},
   "outputs": [
    {
     "name": "stdout",
     "output_type": "stream",
     "text": [
      "end of code\n"
     ]
    }
   ],
   "source": [
    "print(\"end of code\")"
   ]
  },
  {
   "cell_type": "code",
   "execution_count": null,
   "id": "9ab4f50d-f9f6-44fd-b176-473bd1f3cd63",
   "metadata": {},
   "outputs": [],
   "source": []
  }
 ],
 "metadata": {
  "kernelspec": {
   "display_name": "Python 3 (ipykernel)",
   "language": "python",
   "name": "python3"
  },
  "language_info": {
   "codemirror_mode": {
    "name": "ipython",
    "version": 3
   },
   "file_extension": ".py",
   "mimetype": "text/x-python",
   "name": "python",
   "nbconvert_exporter": "python",
   "pygments_lexer": "ipython3",
   "version": "3.11.7"
  }
 },
 "nbformat": 4,
 "nbformat_minor": 5
}
